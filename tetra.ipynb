{
 "cells": [
  {
   "cell_type": "code",
   "execution_count": 4,
   "metadata": {},
   "outputs": [],
   "source": [
    "import numpy as np\n",
    "import torch"
   ]
  },
  {
   "cell_type": "code",
   "execution_count": 79,
   "metadata": {},
   "outputs": [
    {
     "ename": "SyntaxError",
     "evalue": "invalid syntax (1734237658.py, line 10)",
     "output_type": "error",
     "traceback": [
      "\u001b[1;36m  Cell \u001b[1;32mIn[79], line 10\u001b[1;36m\u001b[0m\n\u001b[1;33m    z_buffer =\u001b[0m\n\u001b[1;37m               ^\u001b[0m\n\u001b[1;31mSyntaxError\u001b[0m\u001b[1;31m:\u001b[0m invalid syntax\n"
     ]
    }
   ],
   "source": [
    "side = 5\n",
    "phi = 0.02\n",
    "theta = 0.07\n",
    "illumination = \".,-~:;=!*#$@\"   \n",
    "light_direction = torch.tensor([0, 1, -1], dtype=torch.float32)\n",
    "light_direction = light_direction / torch.norm(light_direction) \n",
    "\n",
    "screen_width = 100\n",
    "screen_height = 100\n",
    "z_buffer = 1\n",
    "\n",
    "cosA = np.cos(A)\n",
    "sinA = np.sin(A)\n",
    "cosB = np.cos(B)\n",
    "sinB = np.sin(B)\n",
    "\n",
    "# initial coords\n",
    "vertices = torch.tensor([[1, 1, 1], \n",
    "                        [1, -1, -1], \n",
    "                        [-1, 1, -1], \n",
    "                        [-1, -1, 1]], dtype=torch.float32)\n",
    "\n",
    "# create faces from vertices\n",
    "faces = torch.tensor([[0, 1, 2], \n",
    "                    [0, 1, 3], \n",
    "                    [0, 2, 3], \n",
    "                    [1, 2, 3]], dtype=torch.int)\n",
    "\n",
    "# rotation matrix x-axis\n",
    "rotation_x = torch.tensor([[1, 0, 0],\n",
    "                        [0, np.cos(theta), np.sin(theta)],\n",
    "                        [0, -np.sin(theta), np.cos(theta)]], dtype=torch.float32)\n",
    "\n",
    "# rotation matrix y-axis\n",
    "rotation_y = torch.tensor([[np.cos(theta), 0, np.sin(theta)],\n",
    "                        [0, 1, 0],\n",
    "                        [-np.sin(theta), 0, np.cos(theta)]], dtype=torch.float32)\n",
    "\n",
    "# rotation matrix z-axis\n",
    "rotation_z = torch.tensor([[np.cos(theta), np.sin(theta), 0],\n",
    "                        [-np.sin(theta), np.cos(theta), 0],\n",
    "                        [0, 0, 1]], dtype=torch.float32)\n"
   ]
  },
  {
   "cell_type": "code",
   "execution_count": 78,
   "metadata": {},
   "outputs": [
    {
     "name": "stdout",
     "output_type": "stream",
     "text": [
      "Face 0: Light Intensity = 0.79, ASCII = #\n",
      "Face 1: Light Intensity = 0.84, ASCII = @\n",
      "Face 2: Light Intensity = 0.03, ASCII = .\n",
      "Face 3: Light Intensity = 0.00, ASCII = .\n"
     ]
    }
   ],
   "source": [
    "# dot product of vertices and rotation matrix\n",
    "def rotate(vertices, axis):\n",
    "    return vertices @ axis.T\n",
    "\n",
    "# calculate illuminance\n",
    "# dot normal, light gives cosine light direction to surface direction\n",
    "def light(vertices, face, light_direction):\n",
    "    v0, v1, v2 = vertices[face]\n",
    "    normal = torch.cross(v1 - v0, v2 - v0)\n",
    "    normal = normal / torch.norm(normal)\n",
    "\n",
    "    # dot of normal and light direction\n",
    "    intensity = torch.dot(normal, light_direction)\n",
    "    intensity = torch.clamp(intensity, 0, 1) \n",
    "\n",
    "    return intensity\n",
    "\n",
    "def convert_ascii(L):\n",
    "    if L > 0.8:\n",
    "        return '@'\n",
    "    elif L > 0.6:\n",
    "        return '#'\n",
    "    elif L > 0.4:\n",
    "        return '*'\n",
    "    elif L > 0.2:\n",
    "        return '+'\n",
    "    else:\n",
    "        return '.'\n",
    "\n",
    "\n"
   ]
  },
  {
   "cell_type": "code",
   "execution_count": null,
   "metadata": {},
   "outputs": [],
   "source": [
    "while True:\n",
    "    for face in faces:\n",
    "        L = light(verticcs, face, light_direction)\n",
    "        char = convert_ascii(L)\n",
    "    \n",
    "    # render using z buffering \n",
    "\n",
    "    vertices = rotate(vertices, rotation_y)\n"
   ]
  }
 ],
 "metadata": {
  "kernelspec": {
   "display_name": "dev",
   "language": "python",
   "name": "python3"
  },
  "language_info": {
   "codemirror_mode": {
    "name": "ipython",
    "version": 3
   },
   "file_extension": ".py",
   "mimetype": "text/x-python",
   "name": "python",
   "nbconvert_exporter": "python",
   "pygments_lexer": "ipython3",
   "version": "3.10.14"
  }
 },
 "nbformat": 4,
 "nbformat_minor": 2
}
